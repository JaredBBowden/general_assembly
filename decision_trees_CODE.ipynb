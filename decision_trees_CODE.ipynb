{
 "cells": [
  {
   "cell_type": "markdown",
   "metadata": {
    "nbpresent": {
     "id": "7bc5dc92-189e-4169-b61f-259fdedc79dd"
    }
   },
   "source": [
    "# Decision trees: code"
   ]
  },
  {
   "cell_type": "code",
   "execution_count": 142,
   "metadata": {
    "collapsed": false,
    "nbpresent": {
     "id": "57c996e2-962d-4cb5-8342-669d42ac2494"
    }
   },
   "outputs": [],
   "source": [
    "import matplotlib.pyplot as plt\n",
    "import numpy as np\n",
    "from sklearn.cross_validation import train_test_split\n",
    "from sklearn.datasets import load_breast_cancer, load_iris\n",
    "from sklearn.tree import DecisionTreeClassifier, export_graphviz\n",
    "\n",
    "%matplotlib inline"
   ]
  },
  {
   "cell_type": "markdown",
   "metadata": {
    "nbpresent": {
     "id": "41f49fb2-34a5-4caf-bd1b-8cf964175c3c"
    }
   },
   "source": [
    "## Build a decision tree and visualize the result EXAMPLE"
   ]
  },
  {
   "cell_type": "markdown",
   "metadata": {},
   "source": [
    "**The iris dataset**  \n",
    "Measures of petal and sepal width and height (cm) for three different iris flower species.  \n",
    "\n",
    "_Can we build a decision tree to model the petal and sepal dimensions associated with each flower species?_\n",
    "\n",
    "![http://5047-presscdn.pagely.netdna-cdn.com/wp-content/uploads/2015/04/iris_petal_sepal.png](./images/iris_petal_sepal.png)"
   ]
  },
  {
   "cell_type": "code",
   "execution_count": null,
   "metadata": {
    "collapsed": true
   },
   "outputs": [],
   "source": [
    "# Load the iris dataset (object known as a \"bunch\")\n",
    "iris = load_iris()"
   ]
  },
  {
   "cell_type": "code",
   "execution_count": 89,
   "metadata": {
    "collapsed": false,
    "nbpresent": {
     "id": "791a4893-d0c4-4722-93d8-21dc76e90b67"
    }
   },
   "outputs": [
    {
     "name": "stdout",
     "output_type": "stream",
     "text": [
      "\n",
      "Keys:\n",
      "['target_names', 'data', 'target', 'DESCR', 'feature_names']\n",
      "\n",
      "Target names:\n",
      "['setosa' 'versicolor' 'virginica']\n",
      "\n",
      "Target values:\n",
      "[0 0 0 0 0 0 0 0 0 0 0 0 0 0 0 0 0 0 0 0 0 0 0 0 0 0 0 0 0 0 0 0 0 0 0 0 0\n",
      " 0 0 0 0 0 0 0 0 0 0 0 0 0 1 1 1 1 1 1 1 1 1 1 1 1 1 1 1 1 1 1 1 1 1 1 1 1\n",
      " 1 1 1 1 1 1 1 1 1 1 1 1 1 1 1 1 1 1 1 1 1 1 1 1 1 1 2 2 2 2 2 2 2 2 2 2 2\n",
      " 2 2 2 2 2 2 2 2 2 2 2 2 2 2 2 2 2 2 2 2 2 2 2 2 2 2 2 2 2 2 2 2 2 2 2 2 2\n",
      " 2 2]\n",
      "\n",
      "Feature values (first 5 rows):\n",
      "[[ 5.1  3.5  1.4  0.2]\n",
      " [ 4.9  3.   1.4  0.2]\n",
      " [ 4.7  3.2  1.3  0.2]\n",
      " [ 4.6  3.1  1.5  0.2]\n",
      " [ 5.   3.6  1.4  0.2]]\n"
     ]
    }
   ],
   "source": [
    "# Review the keys available in the file\n",
    "print \"\\nKeys:\"\n",
    "print iris.keys()\n",
    "\n",
    "# Review the target names, and the target values\n",
    "print \"\\nTarget names:\"\n",
    "print iris['target_names']\n",
    "\n",
    "print \"\\nTarget values:\"\n",
    "print iris.target\n",
    "\n",
    "# Review the feature names, and feature values\n",
    "print \"\\nFeature values (first 5 rows):\"\n",
    "print iris.data[:5]"
   ]
  },
  {
   "cell_type": "code",
   "execution_count": 199,
   "metadata": {
    "collapsed": false
   },
   "outputs": [
    {
     "name": "stdout",
     "output_type": "stream",
     "text": [
      "[ True  True  True  True  True  True  True  True  True  True  True  True\n",
      "  True  True  True  True  True  True  True  True  True  True  True  True\n",
      "  True  True  True  True  True  True  True  True  True  True  True  True\n",
      "  True  True  True  True  True  True  True  True  True  True  True  True\n",
      "  True  True  True  True  True  True  True  True  True  True  True  True\n",
      "  True  True  True  True  True  True  True  True  True  True  True  True\n",
      "  True  True  True  True  True  True  True  True  True  True  True  True\n",
      "  True  True  True  True  True  True  True  True  True  True  True  True\n",
      "  True  True  True  True  True  True  True  True  True  True  True  True\n",
      "  True  True  True  True  True  True  True  True  True  True  True  True\n",
      "  True  True  True  True  True  True  True  True  True  True  True  True\n",
      "  True  True  True  True  True  True  True  True  True  True  True  True\n",
      "  True  True  True  True  True  True]\n",
      "\n",
      "Accuracy: 1.0\n"
     ]
    }
   ],
   "source": [
    "# Instantiate a tree object\n",
    "tree = DecisionTreeClassifier()\n",
    "\n",
    "# Fit the model\n",
    "tree.fit(iris.data, iris.target)\n",
    "\n",
    "# Check fit accuracy, the long way\n",
    "print tree.predict(iris.data) == iris.target\n",
    "\n",
    "print \"\\nAccuracy:\", tree.score(iris.data, iris.target)"
   ]
  },
  {
   "cell_type": "code",
   "execution_count": 42,
   "metadata": {
    "collapsed": false,
    "nbpresent": {
     "id": "9f35541c-7abb-4edc-8f55-f4f7589fccb3"
    }
   },
   "outputs": [],
   "source": [
    "export_graphviz(tree, \n",
    "                out_file=\"./images/iris_tree.dot\",\n",
    "                class_names = iris[\"target_names\"],\n",
    "                feature_names = iris[\"feature_names\"],\n",
    "                impurity = False,\n",
    "                filled = True)"
   ]
  },
  {
   "cell_type": "markdown",
   "metadata": {},
   "source": [
    "**Anticipating some problems with rendering dot files...**  \n",
    "Example dot graph:  \n",
    "```python \n",
    "digraph graphname {\n",
    "     a -> b -> c;\n",
    "     b -> d;\n",
    " }\n",
    "```\n",
    "![dot file](https://upload.wikimedia.org/wikipedia/commons/e/ec/DotLanguageDirected.svg)"
   ]
  },
  {
   "cell_type": "code",
   "execution_count": 207,
   "metadata": {
    "collapsed": false,
    "nbpresent": {
     "id": "28ffc4ff-5dc2-49cb-942f-b1c598c17962"
    }
   },
   "outputs": [],
   "source": [
    "# Quick fix: shell command to convert dot to png\n",
    "!dot -Tpng ./images/iris_tree.dot -o ./images/iris_tree.png"
   ]
  },
  {
   "cell_type": "markdown",
   "metadata": {
    "nbpresent": {
     "id": "cba36051-f208-47c8-adac-4e3b3e10c750"
    }
   },
   "source": [
    "![iris_tree](./images/iris_tree.png)"
   ]
  },
  {
   "cell_type": "markdown",
   "metadata": {
    "collapsed": true
   },
   "source": [
    "## Predicting with decision trees EXERCISE"
   ]
  },
  {
   "cell_type": "markdown",
   "metadata": {},
   "source": [
    "**The breast cancer dataset**  \n",
    "Measures of tumor cytoarchitecture for two different diagnoses: benign or malignant.  \n",
    "\n",
    "_Can we build a decision tree to model to predict the diagnostic outcome of breast cancer screenings based on the cellular dimensions of biopsy tissue?_"
   ]
  },
  {
   "cell_type": "code",
   "execution_count": 269,
   "metadata": {
    "collapsed": false,
    "nbpresent": {
     "id": "7c1c21e1-7773-4725-9742-fcbee6699bf3"
    }
   },
   "outputs": [],
   "source": [
    "# Load the brest cancer dataset\n",
    "cancer = load_breast_cancer()"
   ]
  },
  {
   "cell_type": "code",
   "execution_count": null,
   "metadata": {
    "collapsed": true
   },
   "outputs": [],
   "source": [
    "# Review the keys available in the file\n",
    "print \"\\nKeys:\"\n",
    "print #CODE\n",
    "\n",
    "# Review the target names, and the target values\n",
    "print \"\\nTarget names:\"\n",
    "print #CODE\n",
    "\n",
    "print \"\\nTarget values:\"\n",
    "print #CODE\n",
    "\n",
    "# Review the feature names, and feature values\n",
    "print \"\\nFeature values (first 5 rows):\"\n",
    "print #CODE"
   ]
  },
  {
   "cell_type": "code",
   "execution_count": 270,
   "metadata": {
    "collapsed": true
   },
   "outputs": [],
   "source": [
    "# Split into train and test sets\n",
    "X_train, X_test, y_train, y_test = train_test_split(cancer.data, cancer.target, \n",
    "                                                    train_size = 0.5, \n",
    "                                                    random_state = 7)"
   ]
  },
  {
   "cell_type": "code",
   "execution_count": 271,
   "metadata": {
    "collapsed": true
   },
   "outputs": [],
   "source": [
    "# Instantiate a tree object\n",
    "tree = DecisionTreeClassifier(random_state = 42)"
   ]
  },
  {
   "cell_type": "code",
   "execution_count": 272,
   "metadata": {
    "collapsed": false
   },
   "outputs": [
    {
     "name": "stdout",
     "output_type": "stream",
     "text": [
      "Training accuracy: 1.0\n",
      "Testing accuracy: 0.908771929825\n"
     ]
    }
   ],
   "source": [
    "# Fit the data to the training set\n",
    "tree.fit(X_train, y_train)\n",
    "\n",
    "# Evaluate performance\n",
    "print \"Training accuracy:\", tree.score(X_train, y_train)\n",
    "print \"Testing accuracy:\", tree.score(X_test, y_test)"
   ]
  },
  {
   "cell_type": "markdown",
   "metadata": {},
   "source": [
    "Our training accuracy is perfect, but our prediction accuracy is lower than reported others who have worked on\n",
    "this dataset. Collectivly, these features suggest that our model is overfitting.\n",
    "\n",
    "Read the scikit-learn [documentation](www.google.com) on decision trees. What parameters can you see that might \n",
    "help us parameterize our decision tree with pre-pruning and avoid overfitting?  \n",
    "\n",
    "What effect does pre-prune have on predictive accuracy?  "
   ]
  },
  {
   "cell_type": "code",
   "execution_count": 277,
   "metadata": {
    "collapsed": true
   },
   "outputs": [],
   "source": [
    "# Instantiate a tree object the includes an argument to pre-prune our model\n",
    "tree = DecisionTreeClassifier(random_state = 42) #CODE"
   ]
  },
  {
   "cell_type": "code",
   "execution_count": 278,
   "metadata": {
    "collapsed": false
   },
   "outputs": [
    {
     "name": "stdout",
     "output_type": "stream",
     "text": [
      "Training accuracy: 1.0\n",
      "Testing accuracy: 0.908771929825\n"
     ]
    }
   ],
   "source": [
    "# Fit the data to the training set\n",
    "tree.fit(X_train, y_train)\n",
    "\n",
    "# Evaluate performance\n",
    "print \"Training accuracy:\", tree.score(X_train, y_train)\n",
    "print \"Testing accuracy:\", tree.score(X_test, y_test)"
   ]
  },
  {
   "cell_type": "markdown",
   "metadata": {},
   "source": [
    "**Note**: your model should be able to achieve an accuracy score of >= 0.937"
   ]
  },
  {
   "cell_type": "code",
   "execution_count": null,
   "metadata": {
    "collapsed": true
   },
   "outputs": [],
   "source": [
    "# BONUS: visualize the final decision tree"
   ]
  }
 ],
 "metadata": {
  "anaconda-cloud": {},
  "kernelspec": {
   "display_name": "Python [conda root]",
   "language": "python",
   "name": "conda-root-py"
  },
  "language_info": {
   "codemirror_mode": {
    "name": "ipython",
    "version": 2
   },
   "file_extension": ".py",
   "mimetype": "text/x-python",
   "name": "python",
   "nbconvert_exporter": "python",
   "pygments_lexer": "ipython2",
   "version": "2.7.11"
  },
  "nbpresent": {
   "slides": {
    "22ee6537-8f8a-42dd-8545-7c5ad316b77a": {
     "id": "22ee6537-8f8a-42dd-8545-7c5ad316b77a",
     "prev": null,
     "regions": {
      "fc941025-75f8-4fdd-a73f-3bc64196fe7e": {
       "attrs": {
        "height": 1,
        "width": 1,
        "x": 0,
        "y": 0
       },
       "id": "fc941025-75f8-4fdd-a73f-3bc64196fe7e"
      }
     },
     "theme": null
    },
    "70c6b2a9-0ff4-440f-af7c-fd1fd09d00cd": {
     "id": "70c6b2a9-0ff4-440f-af7c-fd1fd09d00cd",
     "prev": "22ee6537-8f8a-42dd-8545-7c5ad316b77a",
     "regions": {
      "38248e62-b5b0-45bb-b75f-e9130595154c": {
       "attrs": {
        "height": 1,
        "width": 1,
        "x": 0,
        "y": 0
       },
       "id": "38248e62-b5b0-45bb-b75f-e9130595154c"
      }
     }
    }
   },
   "themes": {}
  }
 },
 "nbformat": 4,
 "nbformat_minor": 0
}
