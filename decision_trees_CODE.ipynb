{
 "cells": [
  {
   "cell_type": "markdown",
   "metadata": {},
   "source": [
    "## Decision trees: code"
   ]
  },
  {
   "cell_type": "code",
   "execution_count": 6,
   "metadata": {
    "collapsed": true
   },
   "outputs": [],
   "source": [
    "## TODO: I need to organize these imports\n",
    "\n",
    "from sklearn.datasets import make_classification\n",
    "from sklearn.tree import DecisionTreeClassifier\n",
    "from sklearn.cross_validation import train_test_split\n",
    "from sklearn.metrics import classification_report\n",
    "import numpy as np"
   ]
  },
  {
   "cell_type": "code",
   "execution_count": null,
   "metadata": {
    "collapsed": true
   },
   "outputs": [],
   "source": [
    "# Consider importing a sample set that we could actually care about\n"
   ]
  },
  {
   "cell_type": "code",
   "execution_count": 10,
   "metadata": {
    "collapsed": false
   },
   "outputs": [
    {
     "name": "stdout",
     "output_type": "stream",
     "text": [
      "55\n"
     ]
    }
   ],
   "source": [
    "# Set a random seed\n",
    "rand_seed = int(np.random.randint(1,100,1))\n"
   ]
  },
  {
   "cell_type": "code",
   "execution_count": 11,
   "metadata": {
    "collapsed": false
   },
   "outputs": [],
   "source": [
    "# Simulate a classification data set \n",
    "X, y = make_classification(n_samples=100, n_features=20, n_informative=2, n_redundant=2, n_repeated=0, n_classes=2, n_clusters_per_class=2, weights=None, flip_y=0.01, class_sep=1.0, hypercube=True, shift=0.0, scale=1.0, shuffle=True, random_state=rand_seed)\n",
    "\n",
    "# TODO I'm not really sure how random this is going to be \n",
    "# I might want to take a closer look at this."
   ]
  },
  {
   "cell_type": "code",
   "execution_count": 5,
   "metadata": {
    "collapsed": false
   },
   "outputs": [
    {
     "data": {
      "text/plain": [
       "array([[-1.39255387, -0.27939448,  0.7182046 , ...,  0.32161782,\n",
       "        -0.28828799,  0.14654292],\n",
       "       [ 2.24261985, -0.77504846, -1.80503185, ..., -0.39538269,\n",
       "        -1.17658379,  0.65867323],\n",
       "       [-0.13027862, -0.57425158, -0.23085664, ..., -0.5612408 ,\n",
       "         0.88302943,  2.53624662],\n",
       "       ..., \n",
       "       [-0.61248487, -0.65813784, -1.78288175, ..., -0.22677831,\n",
       "        -1.02479777, -0.04402857],\n",
       "       [ 0.60327781, -0.09491821, -1.13844904, ...,  0.04088165,\n",
       "        -0.33031447,  0.17544763],\n",
       "       [ 1.17271816, -1.56633669,  0.92654767, ...,  0.11886391,\n",
       "        -0.93035589,  0.0585262 ]])"
      ]
     },
     "execution_count": 5,
     "metadata": {},
     "output_type": "execute_result"
    }
   ],
   "source": [
    "# Split into test and \n",
    "\n",
    "X_train, X_test, y_train, y_test = train_test_split(X, y)"
   ]
  },
  {
   "cell_type": "code",
   "execution_count": null,
   "metadata": {
    "collapsed": true
   },
   "outputs": [],
   "source": []
  }
 ],
 "metadata": {
  "anaconda-cloud": {},
  "kernelspec": {
   "display_name": "Python [conda root]",
   "language": "python",
   "name": "conda-root-py"
  },
  "language_info": {
   "codemirror_mode": {
    "name": "ipython",
    "version": 2
   },
   "file_extension": ".py",
   "mimetype": "text/x-python",
   "name": "python",
   "nbconvert_exporter": "python",
   "pygments_lexer": "ipython2",
   "version": "2.7.11"
  }
 },
 "nbformat": 4,
 "nbformat_minor": 0
}
