{
 "cells": [
  {
   "cell_type": "markdown",
   "metadata": {
    "nbpresent": {
     "id": "7bc5dc92-189e-4169-b61f-259fdedc79dd"
    }
   },
   "source": [
    "# Decision trees: code"
   ]
  },
  {
   "cell_type": "code",
   "execution_count": 73,
   "metadata": {
    "collapsed": false,
    "nbpresent": {
     "id": "57866f5a-cf69-472b-a3b9-f453fff37b0c"
    }
   },
   "outputs": [
    {
     "ename": "SyntaxError",
     "evalue": "invalid syntax (<ipython-input-73-d25e42893703>, line 1)",
     "output_type": "error",
     "traceback": [
      "\u001b[0;36m  File \u001b[0;32m\"<ipython-input-73-d25e42893703>\"\u001b[0;36m, line \u001b[0;32m1\u001b[0m\n\u001b[0;31m    jupyter nbextension enable calico-spell-check\u001b[0m\n\u001b[0m                      ^\u001b[0m\n\u001b[0;31mSyntaxError\u001b[0m\u001b[0;31m:\u001b[0m invalid syntax\n"
     ]
    }
   ],
   "source": [
    "jupyter nbextension enable calico-spell-check"
   ]
  },
  {
   "cell_type": "code",
   "execution_count": 74,
   "metadata": {
    "collapsed": false,
    "nbpresent": {
     "id": "57c996e2-962d-4cb5-8342-669d42ac2494"
    }
   },
   "outputs": [],
   "source": [
    "## TODO: I need to organize these imports\n",
    "\n",
    "from sklearn.datasets import make_classification\n",
    "from sklearn.tree import DecisionTreeClassifier\n",
    "from sklearn.cross_validation import train_test_split\n",
    "from sklearn.metrics import classification_report\n",
    "import numpy as np\n",
    "\n",
    "from sklearn.tree import export_graphviz\n",
    "\n",
    "import matplotlib.pyplot as plt \n",
    "\n",
    "\n",
    "%matplotlib inline"
   ]
  },
  {
   "cell_type": "markdown",
   "metadata": {
    "nbpresent": {
     "id": "5cdff009-d9de-4ea6-80ed-2afdd1cdb7ec"
    }
   },
   "source": [
    "## Stuff to cover  \n",
    "Explain how a decision tree functions and how to build one\n",
    "\n",
    "• Visually represent a decision tree\n",
    "\n",
    "• Determine when using a decision tree is an appropriate\n",
    "\n",
    "method\n",
    "\n",
    "U+2753"
   ]
  },
  {
   "cell_type": "code",
   "execution_count": 72,
   "metadata": {
    "collapsed": true,
    "nbpresent": {
     "id": "7156f645-fd93-4abc-b69d-661212958d10"
    }
   },
   "outputs": [],
   "source": [
    "# Consider importing a sample set that we could actually care about\n",
    "# I think we should start with a real data set, and then train on a fabricated data set...\n",
    "\n",
    "# Consider working with local data set... \n",
    "\n",
    "# I also like the way of introducing the featues, and the data... and then making a prediction on \n",
    "# one... and then showing the accuracy on everything... Basically, showing accuracy the long way\n",
    "\n",
    "# Might want to consider the code in pieces.\n",
    "\n",
    "# How does feature importance line up with how the tree looks? "
   ]
  },
  {
   "cell_type": "markdown",
   "metadata": {
    "nbpresent": {
     "id": "41f49fb2-34a5-4caf-bd1b-8cf964175c3c"
    }
   },
   "source": [
    "## Build a decision tree"
   ]
  },
  {
   "cell_type": "code",
   "execution_count": 15,
   "metadata": {
    "collapsed": false,
    "nbpresent": {
     "id": "791a4893-d0c4-4722-93d8-21dc76e90b67"
    }
   },
   "outputs": [],
   "source": [
    "# This should all be moved to the bottom for another exercise. \n",
    "\n",
    "# Set a random seed\n",
    "rand_seed = int(np.random.randint(1,100,1))"
   ]
  },
  {
   "cell_type": "code",
   "execution_count": 69,
   "metadata": {
    "collapsed": false,
    "nbpresent": {
     "id": "d221f82a-4c5c-443f-a7b9-738fe2ec8337"
    }
   },
   "outputs": [
    {
     "name": "stdout",
     "output_type": "stream",
     "text": [
      "1.0\n",
      "0.733333333333\n"
     ]
    }
   ],
   "source": [
    "# Simulate a classification data set \n",
    "X, y = make_classification(n_samples=100, n_features=20, n_informative=2, n_redundant=2, n_repeated=0, n_classes=2, n_clusters_per_class=2, weights=None, flip_y=0.01, class_sep=1.0, hypercube=True, shift=0.0, scale=1.0, shuffle=True, random_state=rand_seed)\n",
    "\n",
    "# TODO I'm not really sure how random this is going to be \n",
    "# I might want to take a closer look at this.\n",
    "\n",
    "# Split into test and \n",
    "X_train, X_test, y_train, y_test = train_test_split(X, y, train_size = 0.7, random_state = rand_seed)\n",
    "\n",
    "# Instantiate a tree object\n",
    "tree = DecisionTreeClassifier()\n",
    "tree.fit(X_train, y_train)\n",
    "\n",
    "print tree.score(X_train, y_train)\n",
    "print tree.score(X_test, y_test)"
   ]
  },
  {
   "cell_type": "markdown",
   "metadata": {
    "nbpresent": {
     "id": "db6549ab-75b3-4209-8220-43913ec6c5a6"
    }
   },
   "source": [
    "## Visualize a decision tree  \n",
    "# TODO see how deep it goes"
   ]
  },
  {
   "cell_type": "code",
   "execution_count": 70,
   "metadata": {
    "collapsed": false,
    "nbpresent": {
     "id": "9f35541c-7abb-4edc-8f55-f4f7589fccb3"
    }
   },
   "outputs": [],
   "source": [
    "export_graphviz(tree, out_file=\"sample_tree.dot\")"
   ]
  },
  {
   "cell_type": "code",
   "execution_count": 71,
   "metadata": {
    "collapsed": false,
    "nbpresent": {
     "id": "28ffc4ff-5dc2-49cb-942f-b1c598c17962"
    }
   },
   "outputs": [],
   "source": [
    "# Because life isn't fair. \n",
    "\n",
    "# What does gini stand for?\n",
    "!dot -Tpng sample_tree.dot -o sample_tree.png"
   ]
  },
  {
   "cell_type": "markdown",
   "metadata": {
    "nbpresent": {
     "id": "cba36051-f208-47c8-adac-4e3b3e10c750"
    }
   },
   "source": [
    "![graph](sample_tree.png)"
   ]
  },
  {
   "cell_type": "code",
   "execution_count": 66,
   "metadata": {
    "collapsed": false,
    "nbpresent": {
     "id": "c336e0f0-d860-4d51-8658-557662872f18"
    }
   },
   "outputs": [
    {
     "name": "stdout",
     "output_type": "stream",
     "text": [
      "decision_trees_CODE.ipynb sample_tree.dot           sample_tree.dot.png\r\n"
     ]
    }
   ],
   "source": [
    "!ls"
   ]
  },
  {
   "cell_type": "code",
   "execution_count": 60,
   "metadata": {
    "collapsed": true,
    "nbpresent": {
     "id": "c9975ec9-000d-4564-9fc4-1f8aa97c7673"
    }
   },
   "outputs": [],
   "source": [
    "!rm *dot *png"
   ]
  },
  {
   "cell_type": "markdown",
   "metadata": {
    "nbpresent": {
     "id": "4e0abb7d-1f8d-4368-bb73-3ed497869a53"
    }
   },
   "source": [
    "![barrrrrf](./test.gif)"
   ]
  },
  {
   "cell_type": "code",
   "execution_count": null,
   "metadata": {
    "collapsed": true,
    "nbpresent": {
     "id": "7c1c21e1-7773-4725-9742-fcbee6699bf3"
    }
   },
   "outputs": [],
   "source": []
  }
 ],
 "metadata": {
  "anaconda-cloud": {},
  "kernelspec": {
   "display_name": "Python [conda root]",
   "language": "python",
   "name": "conda-root-py"
  },
  "language_info": {
   "codemirror_mode": {
    "name": "ipython",
    "version": 2
   },
   "file_extension": ".py",
   "mimetype": "text/x-python",
   "name": "python",
   "nbconvert_exporter": "python",
   "pygments_lexer": "ipython2",
   "version": "2.7.11"
  },
  "nbpresent": {
   "slides": {
    "22ee6537-8f8a-42dd-8545-7c5ad316b77a": {
     "id": "22ee6537-8f8a-42dd-8545-7c5ad316b77a",
     "prev": null,
     "regions": {
      "fc941025-75f8-4fdd-a73f-3bc64196fe7e": {
       "attrs": {
        "height": 1,
        "width": 1,
        "x": 0,
        "y": 0
       },
       "id": "fc941025-75f8-4fdd-a73f-3bc64196fe7e"
      }
     },
     "theme": null
    },
    "70c6b2a9-0ff4-440f-af7c-fd1fd09d00cd": {
     "id": "70c6b2a9-0ff4-440f-af7c-fd1fd09d00cd",
     "prev": "22ee6537-8f8a-42dd-8545-7c5ad316b77a",
     "regions": {
      "38248e62-b5b0-45bb-b75f-e9130595154c": {
       "attrs": {
        "height": 1,
        "width": 1,
        "x": 0,
        "y": 0
       },
       "id": "38248e62-b5b0-45bb-b75f-e9130595154c"
      }
     }
    }
   },
   "themes": {}
  }
 },
 "nbformat": 4,
 "nbformat_minor": 0
}
